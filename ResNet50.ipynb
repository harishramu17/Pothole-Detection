{
 "cells": [
  {
   "cell_type": "code",
   "execution_count": 1,
   "id": "6eb07e34-8eee-48f0-9ee5-9bea080f5d47",
   "metadata": {},
   "outputs": [
    {
     "name": "stderr",
     "output_type": "stream",
     "text": [
      "Intel(R) Extension for Scikit-learn* enabled (https://github.com/intel/scikit-learn-intelex)\n"
     ]
    }
   ],
   "source": [
    "import pandas as pd\n",
    "import numpy as np\n",
    "from sklearn.metrics import accuracy_score,confusion_matrix"
   ]
  },
  {
   "cell_type": "code",
   "execution_count": 2,
   "id": "ecc1027a-571b-440f-9188-47b53584b9f9",
   "metadata": {},
   "outputs": [
    {
     "name": "stderr",
     "output_type": "stream",
     "text": [
      "2023-04-21 02:58:05.501068: I tensorflow/tsl/cuda/cudart_stub.cc:28] Could not find cuda drivers on your machine, GPU will not be used.\n",
      "2023-04-21 02:58:06.861977: I tensorflow/tsl/cuda/cudart_stub.cc:28] Could not find cuda drivers on your machine, GPU will not be used.\n",
      "2023-04-21 02:58:06.885300: I tensorflow/core/platform/cpu_feature_guard.cc:182] This TensorFlow binary is optimized to use available CPU instructions in performance-critical operations.\n",
      "To enable the following instructions: AVX2 AVX512F FMA, in other operations, rebuild TensorFlow with the appropriate compiler flags.\n",
      "2023-04-21 02:58:21.390288: W tensorflow/compiler/tf2tensorrt/utils/py_utils.cc:38] TF-TRT Warning: Could not find TensorRT\n"
     ]
    }
   ],
   "source": [
    "import tensorflow as tf\n",
    "from tensorflow.keras.layers import Dense, GlobalAveragePooling2D\n",
    "from tensorflow.keras.models import Model\n",
    "from tensorflow.keras.optimizers import Adam\n",
    "from tensorflow.keras.preprocessing.image import ImageDataGenerator\n",
    "from tensorflow.keras.preprocessing import image"
   ]
  },
  {
   "cell_type": "code",
   "execution_count": 4,
   "id": "b0efb18e-0dc5-4259-acce-ddb4a46bb447",
   "metadata": {},
   "outputs": [
    {
     "name": "stdout",
     "output_type": "stream",
     "text": [
      "Found 771 validated image filenames belonging to 3 classes.\n"
     ]
    }
   ],
   "source": [
    "# Set up the data generators\n",
    "train_datagen = ImageDataGenerator(\n",
    "    rescale=1./255,\n",
    "    shear_range=0.2,\n",
    "    zoom_range=0.2,\n",
    "    horizontal_flip=True)\n",
    "\n",
    "train_labels = pd.read_csv('train_img/_annotations.csv')\n",
    "# Convert the column to strings\n",
    "train_labels['class'] = train_labels['class'].astype(str)\n",
    "train_generator = train_datagen.flow_from_dataframe(\n",
    "    train_labels,\n",
    "    directory='train_img',\n",
    "    x_col='filename',\n",
    "    y_col='class',\n",
    "    target_size=(771,771),\n",
    "    batch_size=32,\n",
    "    class_mode='categorical')"
   ]
  },
  {
   "cell_type": "code",
   "execution_count": 5,
   "id": "24034ad1-9380-41df-9ad5-793cd4cb425a",
   "metadata": {},
   "outputs": [
    {
     "name": "stderr",
     "output_type": "stream",
     "text": [
      "2023-04-21 02:59:09.028409: I tensorflow/core/common_runtime/executor.cc:1197] [/device:CPU:0] (DEBUG INFO) Executor start aborting (this does not indicate an error and you can ignore this message): INVALID_ARGUMENT: You must feed a value for placeholder tensor 'Placeholder/_0' with dtype int32\n",
      "\t [[{{node Placeholder/_0}}]]\n"
     ]
    },
    {
     "name": "stdout",
     "output_type": "stream",
     "text": [
      "Epoch 1/20\n",
      "24/24 [==============================] - 278s 11s/step - loss: 0.7038 - accuracy: 0.6211\n",
      "Epoch 2/20\n",
      "24/24 [==============================] - 274s 11s/step - loss: 0.6406 - accuracy: 0.6667\n",
      "Epoch 3/20\n",
      "24/24 [==============================] - 276s 11s/step - loss: 0.6371 - accuracy: 0.6667\n",
      "Epoch 4/20\n",
      "24/24 [==============================] - 276s 11s/step - loss: 0.6367 - accuracy: 0.6667\n",
      "Epoch 5/20\n",
      "24/24 [==============================] - 276s 11s/step - loss: 0.6367 - accuracy: 0.6667\n",
      "Epoch 6/20\n",
      "24/24 [==============================] - 275s 11s/step - loss: 0.6367 - accuracy: 0.6667\n",
      "Epoch 7/20\n",
      "24/24 [==============================] - 277s 11s/step - loss: 0.6367 - accuracy: 0.6667\n",
      "Epoch 8/20\n",
      "24/24 [==============================] - 272s 11s/step - loss: 0.6366 - accuracy: 0.6667\n",
      "Epoch 9/20\n",
      "24/24 [==============================] - 277s 11s/step - loss: 0.6367 - accuracy: 0.6667\n",
      "Epoch 10/20\n",
      "24/24 [==============================] - 277s 11s/step - loss: 0.6366 - accuracy: 0.6667\n",
      "Epoch 11/20\n",
      "24/24 [==============================] - 277s 11s/step - loss: 0.6366 - accuracy: 0.6667\n",
      "Epoch 12/20\n",
      "24/24 [==============================] - 278s 11s/step - loss: 0.6366 - accuracy: 0.6667\n",
      "Epoch 13/20\n",
      "24/24 [==============================] - 278s 11s/step - loss: 0.6366 - accuracy: 0.6667\n",
      "Epoch 14/20\n",
      "24/24 [==============================] - 277s 11s/step - loss: 0.6366 - accuracy: 0.6667\n",
      "Epoch 15/20\n",
      "24/24 [==============================] - 277s 11s/step - loss: 0.6366 - accuracy: 0.6667\n",
      "Epoch 16/20\n",
      "24/24 [==============================] - 277s 11s/step - loss: 0.6366 - accuracy: 0.6667\n",
      "Epoch 17/20\n",
      "24/24 [==============================] - 276s 11s/step - loss: 0.6366 - accuracy: 0.6667\n",
      "Epoch 18/20\n",
      "24/24 [==============================] - 272s 11s/step - loss: 0.6366 - accuracy: 0.6667\n",
      "Epoch 19/20\n",
      "24/24 [==============================] - 277s 11s/step - loss: 0.6365 - accuracy: 0.6667\n",
      "Epoch 20/20\n",
      "24/24 [==============================] - 278s 11s/step - loss: 0.6365 - accuracy: 0.6667\n"
     ]
    },
    {
     "data": {
      "text/plain": [
       "<keras.callbacks.History at 0x7fb2cc6ad7c0>"
      ]
     },
     "execution_count": 5,
     "metadata": {},
     "output_type": "execute_result"
    }
   ],
   "source": [
    "base_model = tf.keras.applications.ResNet50(\n",
    "    include_top=False, weights='imagenet', input_shape=(771, 771, 3))\n",
    "\n",
    "for layer in base_model.layers:\n",
    "    layer.trainable = False\n",
    "\n",
    "# Add new fully connected layers on top of the base model\n",
    "x = base_model.output\n",
    "x = GlobalAveragePooling2D()(x)\n",
    "x = Dense(1024, activation='relu')(x)\n",
    "predictions = Dense(1, activation='sigmoid')(x)\n",
    "\n",
    "# Compile the model with binary cross-entropy loss and Adam optimizer\n",
    "model = Model(inputs=base_model.input, outputs=predictions)\n",
    "\n",
    "#freeze Layers\n",
    "for layer in base_model.layers:\n",
    "    layer.trainable = False\n",
    "\n",
    "model.compile(optimizer=Adam(learning_rate=0.0001), loss='binary_crossentropy',\n",
    "              metrics=['accuracy'])\n",
    "\n",
    "# Train the model\n",
    "model.fit(\n",
    "    train_generator,\n",
    "    steps_per_epoch=train_generator.samples // train_generator.batch_size,\n",
    "    epochs=20)"
   ]
  },
  {
   "cell_type": "code",
   "execution_count": 6,
   "id": "15863b51-d912-41f1-9616-e8694024a8cf",
   "metadata": {},
   "outputs": [],
   "source": [
    "# Load the test CSV file with filenames\n",
    "t_test_df = pd.read_csv(\"test_img/_annotations.csv\")"
   ]
  },
  {
   "cell_type": "code",
   "execution_count": 7,
   "id": "f07e7821-9708-4126-a029-495cacfeffcb",
   "metadata": {},
   "outputs": [
    {
     "name": "stdout",
     "output_type": "stream",
     "text": [
      "Found 771 validated image filenames.\n"
     ]
    },
    {
     "name": "stderr",
     "output_type": "stream",
     "text": [
      "/home/u190377/tmp/ipykernel_2560936/2039921042.py:14: UserWarning: `Model.predict_generator` is deprecated and will be removed in a future version. Please use `Model.predict`, which supports generators.\n",
      "  preds = model.predict_generator(t_test_generator, steps=None)\n",
      "2023-04-21 04:47:33.190642: I tensorflow/core/common_runtime/executor.cc:1197] [/device:CPU:0] (DEBUG INFO) Executor start aborting (this does not indicate an error and you can ignore this message): INVALID_ARGUMENT: You must feed a value for placeholder tensor 'Placeholder/_0' with dtype int32\n",
      "\t [[{{node Placeholder/_0}}]]\n"
     ]
    }
   ],
   "source": [
    "# Create a generator for the test images\n",
    "t_test_datagen = ImageDataGenerator(rescale=1./255)\n",
    "t_test_generator = t_test_datagen.flow_from_dataframe(\n",
    "    t_test_df,\n",
    "    directory=\"test_img\",\n",
    "    x_col='filename',\n",
    "    y_col=None,\n",
    "    target_size=(120, 120),\n",
    "    batch_size=32,\n",
    "    class_mode=None,\n",
    "    shuffle=False)\n",
    "\n",
    "# Use the trained model to make predictions on the test data\n",
    "preds = model.predict_generator(t_test_generator, steps=None)\n",
    "# Remove any missing filenames from the test CSV file\n",
    "missing_filenames = set(t_test_generator.filenames) - set(t_test_df['filename'])\n",
    "if missing_filenames:\n",
    "    print(f'Removing {len(missing_filenames)} missing filenames from the test CSV file.')\n",
    "    t_test_df = t_test_df[~t_test_df['filename'].isin(missing_filenames)]"
   ]
  },
  {
   "cell_type": "code",
   "execution_count": 8,
   "id": "720dd45b-2524-4c3a-a56d-4b7b8d498cc1",
   "metadata": {},
   "outputs": [],
   "source": [
    "li = []\n",
    "for i in preds.ravel():\n",
    "    if i>0.5:\n",
    "        li.append(1)\n",
    "    else:\n",
    "        li.append(0)\n",
    "     \n",
    "# Create a DataFrame with the filenames and predictions\n",
    "df = pd.DataFrame({'filename': t_test_generator.filenames[:len(preds)], 'class': li})\n",
    "\n",
    "test_inst_df=pd.merge(df, t_test_df, on='filename', how='inner')"
   ]
  },
  {
   "cell_type": "code",
   "execution_count": 11,
   "id": "cf87e28d-577d-4b56-ab42-dcc7b06b07be",
   "metadata": {},
   "outputs": [
    {
     "data": {
      "text/plain": [
       "0.5136186770428015"
      ]
     },
     "execution_count": 11,
     "metadata": {},
     "output_type": "execute_result"
    }
   ],
   "source": [
    "accuracy_score(df['class'],t_test_df['class']) "
   ]
  },
  {
   "cell_type": "code",
   "execution_count": 10,
   "id": "a3c1f337-3fb2-4b3d-b6b1-5b579515bfe8",
   "metadata": {},
   "outputs": [
    {
     "data": {
      "text/plain": [
       "array([[396, 214, 161],\n",
       "       [  0,   0,   0],\n",
       "       [  0,   0,   0]])"
      ]
     },
     "execution_count": 10,
     "metadata": {},
     "output_type": "execute_result"
    }
   ],
   "source": [
    "confusion_matrix(df[\"class\"],t_test_df['class']) "
   ]
  },
  {
   "cell_type": "code",
   "execution_count": 14,
   "id": "4b81f2fd-3f2a-4978-b9b2-223215ab25ab",
   "metadata": {},
   "outputs": [],
   "source": [
    "# Save the model\n",
    "model.save('models/resnet.h5')"
   ]
  },
  {
   "cell_type": "code",
   "execution_count": 12,
   "id": "a8dbe2b9-ec47-4c13-91f3-e86dc78f8d5f",
   "metadata": {},
   "outputs": [],
   "source": [
    "# Saving the model for Future Inferences\n",
    "\n",
    "model_json = model.to_json()\n",
    "with open(\"resnetmodel.json\", \"w\") as json_file:\n",
    "    json_file.write(model_json)\n",
    "# serialize weights to HDF5\n",
    "model.save_weights(\"resnetmodel.h5\")"
   ]
  },
  {
   "cell_type": "code",
   "execution_count": 16,
   "id": "5dc9b3a5-48e7-41b7-a966-f4868a82e0aa",
   "metadata": {},
   "outputs": [
    {
     "name": "stdout",
     "output_type": "stream",
     "text": [
      "Loaded Model from disk\n"
     ]
    }
   ],
   "source": [
    "#Saving Trained Models With h5py\n",
    "from keras.models import model_from_json \n",
    "\n",
    "# opening and store file in a variable\n",
    "\n",
    "json_file = open('resnetmodel.json','r')\n",
    "loaded_model_json = json_file.read()\n",
    "json_file.close()\n",
    "\n",
    "# use Keras model_from_json to make a loaded model\n",
    "\n",
    "loaded_model = model_from_json(loaded_model_json)\n",
    "\n",
    "# load weights into new model\n",
    "\n",
    "loaded_model.load_weights(\"resnetmodel.h5\")\n",
    "print(\"Loaded Model from disk\")\n",
    "\n",
    "# compile and evaluate loaded model\n",
    "\n",
    "loaded_model.compile(loss='categorical_crossentropy',optimizer='adam',metrics=['accuracy'])\n"
   ]
  },
  {
   "cell_type": "code",
   "execution_count": null,
   "id": "4a0a8797-f783-46a6-b3a0-787045b342a6",
   "metadata": {},
   "outputs": [],
   "source": []
  }
 ],
 "metadata": {
  "kernelspec": {
   "display_name": "Python 3 (Intel® oneAPI 2023.0)",
   "language": "python",
   "name": "c009-intel_distribution_of_python_3_oneapi-beta05-python"
  },
  "language_info": {
   "codemirror_mode": {
    "name": "ipython",
    "version": 3
   },
   "file_extension": ".py",
   "mimetype": "text/x-python",
   "name": "python",
   "nbconvert_exporter": "python",
   "pygments_lexer": "ipython3",
   "version": "3.9.15"
  }
 },
 "nbformat": 4,
 "nbformat_minor": 5
}
